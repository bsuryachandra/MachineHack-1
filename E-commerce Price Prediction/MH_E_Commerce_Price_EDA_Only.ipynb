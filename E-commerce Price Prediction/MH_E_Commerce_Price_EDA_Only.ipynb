{
  "nbformat": 4,
  "nbformat_minor": 0,
  "metadata": {
    "colab": {
      "name": "MH_E_Commerce_Price_EDA_Only.ipynb",
      "provenance": [],
      "collapsed_sections": [],
      "toc_visible": true
    },
    "kernelspec": {
      "name": "python3",
      "display_name": "Python 3"
    }
  },
  "cells": [
    {
      "cell_type": "code",
      "metadata": {
        "id": "Oax0z61afx-W",
        "colab_type": "code",
        "outputId": "4d9da976-3dbd-4d37-c8b6-3aba2ce9316f",
        "colab": {
          "base_uri": "https://localhost:8080/",
          "height": 52
        }
      },
      "source": [
        "#################### DOWNLOAD AND UNZIP FILE SAVED IN DRIVE ####################\n",
        "\n",
        "!pip install -U -q PyDrive\n",
        "\n",
        "# HERE YOUR FILE ID ( GET IT WITH THE SHARING URL: https://drive.google.com/open?id=1Soh3zXLXt2lT7b_3FcWWyeOCC7SnOxK0 )\n",
        "zip_id = '1OiDe5XYrAMBzOZTrR6q3vg4R1xjfCwFW'\n",
        "# https://drive.google.com/file/d/1OiDe5XYrAMBzOZTrR6q3vg4R1xjfCwFW/view?usp=sharing\n",
        "from pydrive.auth import GoogleAuth\n",
        "from pydrive.drive import GoogleDrive\n",
        "from google.colab import auth\n",
        "from oauth2client.client import GoogleCredentials\n",
        "import zipfile, os\n",
        "\n",
        "# 1. Authenticate and create the PyDrive client.\n",
        "auth.authenticate_user()\n",
        "gauth = GoogleAuth()\n",
        "gauth.credentials = GoogleCredentials.get_application_default()\n",
        "drive = GoogleDrive(gauth)\n",
        "\n",
        "if not os.path.exists('ECommerce'):\n",
        "    os.makedirs('ECommerce')\n",
        "\n",
        "# DOWNLOAD ZIP\n",
        "print (\"Downloading zip file\")\n",
        "myzip = drive.CreateFile({'id': zip_id})\n",
        "myzip.GetContentFile('ECommerce.zip')\n",
        "\n",
        "# UNZIP ZIP\n",
        "print (\"Uncompressing zip file\")\n",
        "zip_ref = zipfile.ZipFile('ECommerce.zip', 'r')\n",
        "zip_ref.extractall('ECommerce/')\n",
        "zip_ref.close()"
      ],
      "execution_count": 0,
      "outputs": [
        {
          "output_type": "stream",
          "text": [
            "Downloading zip file\n",
            "Uncompressing zip file\n"
          ],
          "name": "stdout"
        }
      ]
    },
    {
      "cell_type": "code",
      "metadata": {
        "id": "yoUzO1_nf20E",
        "colab_type": "code",
        "outputId": "e0024c65-f429-49ea-d2ed-89608a233847",
        "colab": {
          "base_uri": "https://localhost:8080/",
          "height": 35
        }
      },
      "source": [
        "!ls '/content/ECommerce/E-Commerce_Participants_Data'"
      ],
      "execution_count": 0,
      "outputs": [
        {
          "output_type": "stream",
          "text": [
            "Sample_Submission.xlsx\tTest.csv  Train.csv\n"
          ],
          "name": "stdout"
        }
      ]
    },
    {
      "cell_type": "markdown",
      "metadata": {
        "id": "lQDbiIwqgAeq",
        "colab_type": "text"
      },
      "source": [
        "### Load Packages"
      ]
    },
    {
      "cell_type": "code",
      "metadata": {
        "id": "xy0v6rSGf5J3",
        "colab_type": "code",
        "outputId": "b31b3c18-7de4-416c-82c3-19fcd9d251f7",
        "colab": {
          "base_uri": "https://localhost:8080/",
          "height": 332
        }
      },
      "source": [
        "!pip install sweetviz"
      ],
      "execution_count": 0,
      "outputs": [
        {
          "output_type": "stream",
          "text": [
            "Requirement already satisfied: sweetviz in /usr/local/lib/python3.6/dist-packages (1.0a7)\n",
            "Requirement already satisfied: scipy>=1.3.2 in /usr/local/lib/python3.6/dist-packages (from sweetviz) (1.4.1)\n",
            "Requirement already satisfied: importlib-resources>=1.2.0 in /usr/local/lib/python3.6/dist-packages (from sweetviz) (2.0.0)\n",
            "Requirement already satisfied: matplotlib>=3.1.3 in /usr/local/lib/python3.6/dist-packages (from sweetviz) (3.2.1)\n",
            "Requirement already satisfied: jinja2>=2.11.1 in /usr/local/lib/python3.6/dist-packages (from sweetviz) (2.11.2)\n",
            "Requirement already satisfied: pandas!=1.0.0,!=1.0.1,!=1.0.2,>=0.25.3 in /usr/local/lib/python3.6/dist-packages (from sweetviz) (1.0.4)\n",
            "Requirement already satisfied: tqdm>=4.43.0 in /usr/local/lib/python3.6/dist-packages (from sweetviz) (4.46.1)\n",
            "Requirement already satisfied: numpy>=1.16.0 in /usr/local/lib/python3.6/dist-packages (from sweetviz) (1.18.5)\n",
            "Requirement already satisfied: zipp>=0.4; python_version < \"3.8\" in /usr/local/lib/python3.6/dist-packages (from importlib-resources>=1.2.0->sweetviz) (3.1.0)\n",
            "Requirement already satisfied: importlib-metadata; python_version < \"3.8\" in /usr/local/lib/python3.6/dist-packages (from importlib-resources>=1.2.0->sweetviz) (1.6.0)\n",
            "Requirement already satisfied: python-dateutil>=2.1 in /usr/local/lib/python3.6/dist-packages (from matplotlib>=3.1.3->sweetviz) (2.8.1)\n",
            "Requirement already satisfied: kiwisolver>=1.0.1 in /usr/local/lib/python3.6/dist-packages (from matplotlib>=3.1.3->sweetviz) (1.2.0)\n",
            "Requirement already satisfied: pyparsing!=2.0.4,!=2.1.2,!=2.1.6,>=2.0.1 in /usr/local/lib/python3.6/dist-packages (from matplotlib>=3.1.3->sweetviz) (2.4.7)\n",
            "Requirement already satisfied: cycler>=0.10 in /usr/local/lib/python3.6/dist-packages (from matplotlib>=3.1.3->sweetviz) (0.10.0)\n",
            "Requirement already satisfied: MarkupSafe>=0.23 in /usr/local/lib/python3.6/dist-packages (from jinja2>=2.11.1->sweetviz) (1.1.1)\n",
            "Requirement already satisfied: pytz>=2017.2 in /usr/local/lib/python3.6/dist-packages (from pandas!=1.0.0,!=1.0.1,!=1.0.2,>=0.25.3->sweetviz) (2018.9)\n",
            "Requirement already satisfied: six>=1.5 in /usr/local/lib/python3.6/dist-packages (from python-dateutil>=2.1->matplotlib>=3.1.3->sweetviz) (1.12.0)\n"
          ],
          "name": "stdout"
        }
      ]
    },
    {
      "cell_type": "code",
      "metadata": {
        "id": "EV4k2xHHgJan",
        "colab_type": "code",
        "outputId": "e2ff4bba-1dbd-46a3-c577-a64baaa46d65",
        "colab": {
          "base_uri": "https://localhost:8080/",
          "height": 72
        }
      },
      "source": [
        "import pandas as pd                                                  # to import csv and for data manipulation\n",
        "import matplotlib.pyplot as plt                                      # to plot graph\n",
        "import seaborn as sns                                                # for intractve graphs\n",
        "import numpy as np                                                   # for linear algebra\n",
        "\n",
        "import sweetviz\n",
        "import warnings\n",
        "warnings.filterwarnings('ignore')"
      ],
      "execution_count": 0,
      "outputs": [
        {
          "output_type": "stream",
          "text": [
            "/usr/local/lib/python3.6/dist-packages/statsmodels/tools/_testing.py:19: FutureWarning: pandas.util.testing is deprecated. Use the functions in the public API at pandas.testing instead.\n",
            "  import pandas.util.testing as tm\n"
          ],
          "name": "stderr"
        }
      ]
    },
    {
      "cell_type": "markdown",
      "metadata": {
        "id": "eCtDua1cgo6a",
        "colab_type": "text"
      },
      "source": [
        "### Read the dataset"
      ]
    },
    {
      "cell_type": "code",
      "metadata": {
        "id": "yZCuL-JdgkXr",
        "colab_type": "code",
        "colab": {}
      },
      "source": [
        "file = r'/content/ECommerce/E-Commerce_Participants_Data/'\n",
        "train_df = pd.read_csv(file+'Train.csv')\n",
        "test_df = pd.read_csv(file+'Test.csv')\n",
        "sub_df = pd.read_excel(file+'Sample_Submission.xlsx')"
      ],
      "execution_count": 0,
      "outputs": []
    },
    {
      "cell_type": "code",
      "metadata": {
        "id": "dgK8ivWwgsFA",
        "colab_type": "code",
        "outputId": "be88d684-7008-4d8f-8cb5-2e045e9672b8",
        "colab": {
          "base_uri": "https://localhost:8080/",
          "height": 271
        }
      },
      "source": [
        "train_df.head()"
      ],
      "execution_count": 0,
      "outputs": [
        {
          "output_type": "execute_result",
          "data": {
            "text/html": [
              "<div>\n",
              "<style scoped>\n",
              "    .dataframe tbody tr th:only-of-type {\n",
              "        vertical-align: middle;\n",
              "    }\n",
              "\n",
              "    .dataframe tbody tr th {\n",
              "        vertical-align: top;\n",
              "    }\n",
              "\n",
              "    .dataframe thead th {\n",
              "        text-align: right;\n",
              "    }\n",
              "</style>\n",
              "<table border=\"1\" class=\"dataframe\">\n",
              "  <thead>\n",
              "    <tr style=\"text-align: right;\">\n",
              "      <th></th>\n",
              "      <th>Product</th>\n",
              "      <th>Product_Brand</th>\n",
              "      <th>Item_Category</th>\n",
              "      <th>Subcategory_1</th>\n",
              "      <th>Subcategory_2</th>\n",
              "      <th>Item_Rating</th>\n",
              "      <th>Date</th>\n",
              "      <th>Selling_Price</th>\n",
              "    </tr>\n",
              "  </thead>\n",
              "  <tbody>\n",
              "    <tr>\n",
              "      <th>0</th>\n",
              "      <td>P-2610</td>\n",
              "      <td>B-659</td>\n",
              "      <td>bags wallets belts</td>\n",
              "      <td>bags</td>\n",
              "      <td>hand bags</td>\n",
              "      <td>4.3</td>\n",
              "      <td>2/3/2017</td>\n",
              "      <td>291.0</td>\n",
              "    </tr>\n",
              "    <tr>\n",
              "      <th>1</th>\n",
              "      <td>P-2453</td>\n",
              "      <td>B-3078</td>\n",
              "      <td>clothing</td>\n",
              "      <td>women s clothing</td>\n",
              "      <td>western wear</td>\n",
              "      <td>3.1</td>\n",
              "      <td>7/1/2015</td>\n",
              "      <td>897.0</td>\n",
              "    </tr>\n",
              "    <tr>\n",
              "      <th>2</th>\n",
              "      <td>P-6802</td>\n",
              "      <td>B-1810</td>\n",
              "      <td>home decor festive needs</td>\n",
              "      <td>showpieces</td>\n",
              "      <td>ethnic</td>\n",
              "      <td>3.5</td>\n",
              "      <td>1/12/2019</td>\n",
              "      <td>792.0</td>\n",
              "    </tr>\n",
              "    <tr>\n",
              "      <th>3</th>\n",
              "      <td>P-4452</td>\n",
              "      <td>B-3078</td>\n",
              "      <td>beauty and personal care</td>\n",
              "      <td>eye care</td>\n",
              "      <td>h2o plus eye care</td>\n",
              "      <td>4.0</td>\n",
              "      <td>12/12/2014</td>\n",
              "      <td>837.0</td>\n",
              "    </tr>\n",
              "    <tr>\n",
              "      <th>4</th>\n",
              "      <td>P-8454</td>\n",
              "      <td>B-3078</td>\n",
              "      <td>clothing</td>\n",
              "      <td>men s clothing</td>\n",
              "      <td>t shirts</td>\n",
              "      <td>4.3</td>\n",
              "      <td>12/12/2013</td>\n",
              "      <td>470.0</td>\n",
              "    </tr>\n",
              "  </tbody>\n",
              "</table>\n",
              "</div>"
            ],
            "text/plain": [
              "  Product Product_Brand  ...        Date Selling_Price\n",
              "0  P-2610         B-659  ...    2/3/2017         291.0\n",
              "1  P-2453        B-3078  ...    7/1/2015         897.0\n",
              "2  P-6802        B-1810  ...   1/12/2019         792.0\n",
              "3  P-4452        B-3078  ...  12/12/2014         837.0\n",
              "4  P-8454        B-3078  ...  12/12/2013         470.0\n",
              "\n",
              "[5 rows x 8 columns]"
            ]
          },
          "metadata": {
            "tags": []
          },
          "execution_count": 6
        }
      ]
    },
    {
      "cell_type": "code",
      "metadata": {
        "id": "f8eiI53ugvBe",
        "colab_type": "code",
        "outputId": "c8e4d50f-f8fc-496c-b078-843d73822eb8",
        "colab": {
          "base_uri": "https://localhost:8080/",
          "height": 202
        }
      },
      "source": [
        "test_df.head()"
      ],
      "execution_count": 0,
      "outputs": [
        {
          "output_type": "execute_result",
          "data": {
            "text/html": [
              "<div>\n",
              "<style scoped>\n",
              "    .dataframe tbody tr th:only-of-type {\n",
              "        vertical-align: middle;\n",
              "    }\n",
              "\n",
              "    .dataframe tbody tr th {\n",
              "        vertical-align: top;\n",
              "    }\n",
              "\n",
              "    .dataframe thead th {\n",
              "        text-align: right;\n",
              "    }\n",
              "</style>\n",
              "<table border=\"1\" class=\"dataframe\">\n",
              "  <thead>\n",
              "    <tr style=\"text-align: right;\">\n",
              "      <th></th>\n",
              "      <th>Product</th>\n",
              "      <th>Product_Brand</th>\n",
              "      <th>Item_Category</th>\n",
              "      <th>Subcategory_1</th>\n",
              "      <th>Subcategory_2</th>\n",
              "      <th>Item_Rating</th>\n",
              "      <th>Date</th>\n",
              "    </tr>\n",
              "  </thead>\n",
              "  <tbody>\n",
              "    <tr>\n",
              "      <th>0</th>\n",
              "      <td>P-11284</td>\n",
              "      <td>B-2984</td>\n",
              "      <td>computers</td>\n",
              "      <td>network components</td>\n",
              "      <td>routers</td>\n",
              "      <td>4.3</td>\n",
              "      <td>1/12/2018</td>\n",
              "    </tr>\n",
              "    <tr>\n",
              "      <th>1</th>\n",
              "      <td>P-6580</td>\n",
              "      <td>B-1732</td>\n",
              "      <td>jewellery</td>\n",
              "      <td>bangles bracelets armlets</td>\n",
              "      <td>bracelets</td>\n",
              "      <td>3.0</td>\n",
              "      <td>20/12/2012</td>\n",
              "    </tr>\n",
              "    <tr>\n",
              "      <th>2</th>\n",
              "      <td>P-5843</td>\n",
              "      <td>B-3078</td>\n",
              "      <td>clothing</td>\n",
              "      <td>women s clothing</td>\n",
              "      <td>western wear</td>\n",
              "      <td>1.5</td>\n",
              "      <td>1/12/2014</td>\n",
              "    </tr>\n",
              "    <tr>\n",
              "      <th>3</th>\n",
              "      <td>P-5334</td>\n",
              "      <td>B-1421</td>\n",
              "      <td>jewellery</td>\n",
              "      <td>necklaces chains</td>\n",
              "      <td>necklaces</td>\n",
              "      <td>3.9</td>\n",
              "      <td>1/12/2019</td>\n",
              "    </tr>\n",
              "    <tr>\n",
              "      <th>4</th>\n",
              "      <td>P-5586</td>\n",
              "      <td>B-3078</td>\n",
              "      <td>clothing</td>\n",
              "      <td>women s clothing</td>\n",
              "      <td>western wear</td>\n",
              "      <td>1.4</td>\n",
              "      <td>1/12/2017</td>\n",
              "    </tr>\n",
              "  </tbody>\n",
              "</table>\n",
              "</div>"
            ],
            "text/plain": [
              "   Product Product_Brand Item_Category  ... Subcategory_2 Item_Rating        Date\n",
              "0  P-11284        B-2984     computers  ...       routers         4.3   1/12/2018\n",
              "1   P-6580        B-1732     jewellery  ...     bracelets         3.0  20/12/2012\n",
              "2   P-5843        B-3078      clothing  ...  western wear         1.5   1/12/2014\n",
              "3   P-5334        B-1421     jewellery  ...     necklaces         3.9   1/12/2019\n",
              "4   P-5586        B-3078      clothing  ...  western wear         1.4   1/12/2017\n",
              "\n",
              "[5 rows x 7 columns]"
            ]
          },
          "metadata": {
            "tags": []
          },
          "execution_count": 7
        }
      ]
    },
    {
      "cell_type": "code",
      "metadata": {
        "id": "abOB1LWFgwKp",
        "colab_type": "code",
        "outputId": "1e246978-31ea-4f3d-cc7c-556856a9ca47",
        "colab": {
          "base_uri": "https://localhost:8080/",
          "height": 69
        }
      },
      "source": [
        "train_report = sweetviz.analyze([train_df, \"Train\"], target_feat = 'Selling_Price')"
      ],
      "execution_count": 0,
      "outputs": [
        {
          "output_type": "stream",
          "text": [
            ":FEATURES DONE:                    |█████████████████████| [100%]   00:02  -> (00:00 left)\n",
            ":PAIRWISE DONE:                    |█████████████████████| [100%]   00:00  -> (00:00 left)\n"
          ],
          "name": "stderr"
        },
        {
          "output_type": "stream",
          "text": [
            "Creating Associations graph... DONE!\n"
          ],
          "name": "stdout"
        }
      ]
    },
    {
      "cell_type": "code",
      "metadata": {
        "id": "x-pG64dFg8k_",
        "colab_type": "code",
        "colab": {}
      },
      "source": [
        "train_report.show_html('Train_Report.html')"
      ],
      "execution_count": 0,
      "outputs": []
    },
    {
      "cell_type": "code",
      "metadata": {
        "id": "NbWpVecXhAA9",
        "colab_type": "code",
        "outputId": "a116d047-6935-43cb-a2c4-0bc279d34654",
        "colab": {
          "base_uri": "https://localhost:8080/",
          "height": 69
        }
      },
      "source": [
        "test_report = sweetviz.analyze([test_df, \"Test\"])"
      ],
      "execution_count": 0,
      "outputs": [
        {
          "output_type": "stream",
          "text": [
            ":FEATURES DONE:                    |                     | [  0%]   00:01  -> (00:00 left)\n",
            ":PAIRWISE DONE:                    |█████████████████████| [100%]   00:00  -> (00:00 left)\n"
          ],
          "name": "stderr"
        },
        {
          "output_type": "stream",
          "text": [
            "Creating Associations graph... DONE!\n"
          ],
          "name": "stdout"
        }
      ]
    },
    {
      "cell_type": "code",
      "metadata": {
        "id": "I3Cb0isuhDXw",
        "colab_type": "code",
        "colab": {}
      },
      "source": [
        "test_report.show_html('Test_Report.html')"
      ],
      "execution_count": 0,
      "outputs": []
    },
    {
      "cell_type": "markdown",
      "metadata": {
        "id": "5T8itGLShHzK",
        "colab_type": "text"
      },
      "source": [
        "#### Compare two dataframes"
      ]
    },
    {
      "cell_type": "code",
      "metadata": {
        "id": "PNVqdVPdhFnt",
        "colab_type": "code",
        "outputId": "009f6ad5-e101-404c-e37b-0c82adea5a7a",
        "colab": {
          "base_uri": "https://localhost:8080/",
          "height": 69
        }
      },
      "source": [
        "train_test_report = sweetviz.compare([train_df, \"Train\"] , [test_df, \"Test\"], \"Selling_Price\")"
      ],
      "execution_count": 0,
      "outputs": [
        {
          "output_type": "stream",
          "text": [
            ":FEATURES DONE:                    |█████████████████████| [100%]   00:02  -> (00:00 left)\n",
            ":PAIRWISE DONE:                    |█████████████████████| [100%]   00:00  -> (00:00 left)\n"
          ],
          "name": "stderr"
        },
        {
          "output_type": "stream",
          "text": [
            "Creating Associations graph... DONE!\n"
          ],
          "name": "stdout"
        }
      ]
    },
    {
      "cell_type": "code",
      "metadata": {
        "id": "sEWHeKBvhMdC",
        "colab_type": "code",
        "colab": {}
      },
      "source": [
        "train_test_report.show_html('Train_Test_Report.html')"
      ],
      "execution_count": 0,
      "outputs": []
    },
    {
      "cell_type": "code",
      "metadata": {
        "id": "3YYAT0xMhOpv",
        "colab_type": "code",
        "colab": {}
      },
      "source": [
        ""
      ],
      "execution_count": 0,
      "outputs": []
    }
  ]
}